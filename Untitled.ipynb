{
 "cells": [
  {
   "cell_type": "code",
   "execution_count": 1,
   "metadata": {},
   "outputs": [
    {
     "name": "stderr",
     "output_type": "stream",
     "text": [
      "INFO:rdflib:RDFLib Version: 4.2.2\n"
     ]
    }
   ],
   "source": [
    "import os\n",
    "import json\n",
    "import arcpy\n",
    "import requests\n",
    "import glob\n",
    "import zipfile\n",
    "import pandas as pd\n",
    "\n",
    "from rdflib import Graph\n",
    "from gastrodon import LocalEndpoint, one, QName\n",
    "from arcgis.gis import GIS"
   ]
  },
  {
   "cell_type": "code",
   "execution_count": 2,
   "metadata": {},
   "outputs": [],
   "source": [
    "docsPath = r'C:\\Users\\jame9353\\Documents\\GitHub\\RDFtoNeo4J\\Demo\\Early Bird'\n",
    "rdfOutDir = r'C:\\Users\\jame9353\\Documents\\GitHub\\RDFtoNeo4J\\Demo\\Data'\n",
    "outBaseName = 'EarlyBird'\n",
    "fileOutDir = 'http://esrifederal.maps.arcgis.com'\n",
    "userName = 'james_jones_federal'\n",
    "passWord = 'QWerty654321@!'\n",
    "\n",
    "gis = GIS(fileOutDir, username=userName, password=passWord)\n",
    "\n",
    "rdfOutExt = \".rdf\""
   ]
  },
  {
   "cell_type": "code",
   "execution_count": 3,
   "metadata": {},
   "outputs": [],
   "source": [
    "def netowlCurl(inFile, outPath, outExtension):\n",
    "    headers = {\n",
    "        'accept': 'application/rdf+xml',\n",
    "        'Authorization': 'netowl ff5e6185-5d63-459b-9765-4ebb905affc8',\n",
    "    }\n",
    "\n",
    "    if inFile.endswith(\".txt\"):\n",
    "        headers['Content-Type'] = 'text/text'\n",
    "        print(\"Document is a text file...\")\n",
    "    elif inFile.endswith(\".pdf\"):\n",
    "        headers['Content-Type'] = 'application/pdf'\n",
    "        print(\"Document is a PDF...\")\n",
    "    elif inFile.endswith(\".docx\"):\n",
    "        headers['Content-Type'] = 'application/msword'\n",
    "        print(\"Document is a Word Document...\")\n",
    "\n",
    "    params = (\n",
    "        ('language', 'english'),\n",
    "    )\n",
    "\n",
    "    data = open(inFile, 'rb').read()\n",
    "    response = requests.post('https://api.netowl.com/api/v2/_process', headers=headers, params=params, data=data,\n",
    "                             verify=False)\n",
    "    r = response.text\n",
    "    outPath = outPath\n",
    "    fileName = os.path.split(d)[1]\n",
    "    if os.path.exists(outPath) == False:\n",
    "        os.mkdir(outPath, mode=0o777, )\n",
    "    outFile = os.path.join(outPath, fileName + outExtension)\n",
    "    # print(len(r))\n",
    "    # print(outFile)\n",
    "    open(outFile, \"w\", encoding=\"utf-8\").write(r)"
   ]
  },
  {
   "cell_type": "code",
   "execution_count": 4,
   "metadata": {},
   "outputs": [],
   "source": [
    "docs = []\n",
    "for root, dirs, files in os.walk(docsPath):\n",
    "    for f in files:\n",
    "        filePath = os.path.join(root, f)\n",
    "        docs.append(filePath)"
   ]
  },
  {
   "cell_type": "code",
   "execution_count": 5,
   "metadata": {},
   "outputs": [
    {
     "name": "stdout",
     "output_type": "stream",
     "text": [
      "Document is a Word Document...\n"
     ]
    },
    {
     "name": "stderr",
     "output_type": "stream",
     "text": [
      "C:\\Program Files\\ArcGIS\\Pro\\bin\\Python\\envs\\arcgispro-py3\\lib\\site-packages\\urllib3\\connectionpool.py:858: InsecureRequestWarning: Unverified HTTPS request is being made. Adding certificate verification is strongly advised. See: https://urllib3.readthedocs.io/en/latest/advanced-usage.html#ssl-warnings\n",
      "  InsecureRequestWarning)\n",
      "C:\\Program Files\\ArcGIS\\Pro\\bin\\Python\\envs\\arcgispro-py3\\lib\\site-packages\\urllib3\\connectionpool.py:858: InsecureRequestWarning: Unverified HTTPS request is being made. Adding certificate verification is strongly advised. See: https://urllib3.readthedocs.io/en/latest/advanced-usage.html#ssl-warnings\n",
      "  InsecureRequestWarning)\n",
      "C:\\Program Files\\ArcGIS\\Pro\\bin\\Python\\envs\\arcgispro-py3\\lib\\site-packages\\urllib3\\connectionpool.py:858: InsecureRequestWarning: Unverified HTTPS request is being made. Adding certificate verification is strongly advised. See: https://urllib3.readthedocs.io/en/latest/advanced-usage.html#ssl-warnings\n",
      "  InsecureRequestWarning)\n",
      "C:\\Program Files\\ArcGIS\\Pro\\bin\\Python\\envs\\arcgispro-py3\\lib\\site-packages\\urllib3\\connectionpool.py:858: InsecureRequestWarning: Unverified HTTPS request is being made. Adding certificate verification is strongly advised. See: https://urllib3.readthedocs.io/en/latest/advanced-usage.html#ssl-warnings\n",
      "  InsecureRequestWarning)\n",
      "C:\\Program Files\\ArcGIS\\Pro\\bin\\Python\\envs\\arcgispro-py3\\lib\\site-packages\\urllib3\\connectionpool.py:858: InsecureRequestWarning: Unverified HTTPS request is being made. Adding certificate verification is strongly advised. See: https://urllib3.readthedocs.io/en/latest/advanced-usage.html#ssl-warnings\n",
      "  InsecureRequestWarning)\n",
      "C:\\Program Files\\ArcGIS\\Pro\\bin\\Python\\envs\\arcgispro-py3\\lib\\site-packages\\urllib3\\connectionpool.py:858: InsecureRequestWarning: Unverified HTTPS request is being made. Adding certificate verification is strongly advised. See: https://urllib3.readthedocs.io/en/latest/advanced-usage.html#ssl-warnings\n",
      "  InsecureRequestWarning)\n",
      "C:\\Program Files\\ArcGIS\\Pro\\bin\\Python\\envs\\arcgispro-py3\\lib\\site-packages\\urllib3\\connectionpool.py:858: InsecureRequestWarning: Unverified HTTPS request is being made. Adding certificate verification is strongly advised. See: https://urllib3.readthedocs.io/en/latest/advanced-usage.html#ssl-warnings\n",
      "  InsecureRequestWarning)\n",
      "C:\\Program Files\\ArcGIS\\Pro\\bin\\Python\\envs\\arcgispro-py3\\lib\\site-packages\\urllib3\\connectionpool.py:858: InsecureRequestWarning: Unverified HTTPS request is being made. Adding certificate verification is strongly advised. See: https://urllib3.readthedocs.io/en/latest/advanced-usage.html#ssl-warnings\n",
      "  InsecureRequestWarning)\n"
     ]
    },
    {
     "name": "stdout",
     "output_type": "stream",
     "text": [
      "Document is a Word Document...\n"
     ]
    },
    {
     "name": "stderr",
     "output_type": "stream",
     "text": [
      "C:\\Program Files\\ArcGIS\\Pro\\bin\\Python\\envs\\arcgispro-py3\\lib\\site-packages\\urllib3\\connectionpool.py:858: InsecureRequestWarning: Unverified HTTPS request is being made. Adding certificate verification is strongly advised. See: https://urllib3.readthedocs.io/en/latest/advanced-usage.html#ssl-warnings\n",
      "  InsecureRequestWarning)\n"
     ]
    },
    {
     "name": "stdout",
     "output_type": "stream",
     "text": [
      "Document is a Word Document...\n"
     ]
    },
    {
     "name": "stderr",
     "output_type": "stream",
     "text": [
      "C:\\Program Files\\ArcGIS\\Pro\\bin\\Python\\envs\\arcgispro-py3\\lib\\site-packages\\urllib3\\connectionpool.py:858: InsecureRequestWarning: Unverified HTTPS request is being made. Adding certificate verification is strongly advised. See: https://urllib3.readthedocs.io/en/latest/advanced-usage.html#ssl-warnings\n",
      "  InsecureRequestWarning)\n"
     ]
    }
   ],
   "source": [
    "for d in docs:\n",
    "    netowlCurl(d, rdfOutDir, rdfOutExt)"
   ]
  },
  {
   "cell_type": "code",
   "execution_count": 6,
   "metadata": {},
   "outputs": [],
   "source": [
    "g = Graph()"
   ]
  },
  {
   "cell_type": "code",
   "execution_count": 7,
   "metadata": {},
   "outputs": [
    {
     "name": "stdout",
     "output_type": "stream",
     "text": [
      "Parsing Coordinates.docx.rdf...\n",
      "Parsing e20070103_01.htm.rdf...\n",
      "Parsing e20070103_02.htm.rdf...\n",
      "Parsing e20070103_03.htm.rdf...\n",
      "Parsing e20070103_04.htm.rdf...\n",
      "Parsing e20070103_05.htm.rdf...\n",
      "Parsing e20070103_06.htm.rdf...\n",
      "Parsing e20070103_07.htm.rdf...\n",
      "Parsing Sample Document 2.docx.rdf...\n",
      "Parsing Sample Document 3.docx.rdf...\n"
     ]
    }
   ],
   "source": [
    "for root, dir, files in os.walk(rdfOutDir):\n",
    "    for file in files:\n",
    "        if file.endswith(rdfOutExt):\n",
    "            filePath = os.path.join(root, file)\n",
    "            print(\"Parsing \" + file + \"...\")\n",
    "            try:\n",
    "                g.parse(filePath, format='xml')\n",
    "            except Exception as ex:\n",
    "                print(ex)"
   ]
  },
  {
   "cell_type": "code",
   "execution_count": 8,
   "metadata": {},
   "outputs": [],
   "source": [
    "e = LocalEndpoint(g)"
   ]
  },
  {
   "cell_type": "code",
   "execution_count": 9,
   "metadata": {},
   "outputs": [
    {
     "data": {
      "text/html": [
       "<div>\n",
       "<style scoped>\n",
       "    .dataframe tbody tr th:only-of-type {\n",
       "        vertical-align: middle;\n",
       "    }\n",
       "\n",
       "    .dataframe tbody tr th {\n",
       "        vertical-align: top;\n",
       "    }\n",
       "\n",
       "    .dataframe thead th {\n",
       "        text-align: right;\n",
       "    }\n",
       "</style>\n",
       "<table border=\"1\" class=\"dataframe\">\n",
       "  <thead>\n",
       "    <tr style=\"text-align: right;\">\n",
       "      <th></th>\n",
       "      <th>s</th>\n",
       "      <th>o</th>\n",
       "    </tr>\n",
       "    <tr>\n",
       "      <th>label</th>\n",
       "      <th></th>\n",
       "      <th></th>\n",
       "    </tr>\n",
       "  </thead>\n",
       "  <tbody>\n",
       "    <tr>\n",
       "      <th>10824 Cross School Rd, Reston, VA 20191</th>\n",
       "      <td>file:///C:/Users/jame9353/Documents/GitHub/RDF...</td>\n",
       "      <td>10824 Cross School Rd, Reston, VA 20191</td>\n",
       "    </tr>\n",
       "    <tr>\n",
       "      <th>8615 Westwood Center Drive, Vienna, VA 22182</th>\n",
       "      <td>file:///C:/Users/jame9353/Documents/GitHub/RDF...</td>\n",
       "      <td>8615 Westwood Center Drive, Vienna, VA 22182</td>\n",
       "    </tr>\n",
       "    <tr>\n",
       "      <th>380 New York Street, Redlands, CA 92373</th>\n",
       "      <td>file:///C:/Users/jame9353/Documents/GitHub/RDF...</td>\n",
       "      <td>380 New York Street, Redlands, CA 92373</td>\n",
       "    </tr>\n",
       "    <tr>\n",
       "      <th>8605 Westwood Center Drive, Tysons, VA 22182</th>\n",
       "      <td>file:///C:/Users/jame9353/Documents/GitHub/RDF...</td>\n",
       "      <td>8605 Westwood Center Drive, Tysons, VA 22182</td>\n",
       "    </tr>\n",
       "  </tbody>\n",
       "</table>\n",
       "</div>"
      ],
      "text/plain": [
       "                                                                                              s  \\\n",
       "label                                                                                             \n",
       "10824 Cross School Rd, Reston, VA 20191       file:///C:/Users/jame9353/Documents/GitHub/RDF...   \n",
       "8615 Westwood Center Drive, Vienna, VA 22182  file:///C:/Users/jame9353/Documents/GitHub/RDF...   \n",
       "380 New York Street, Redlands, CA 92373       file:///C:/Users/jame9353/Documents/GitHub/RDF...   \n",
       "8605 Westwood Center Drive, Tysons, VA 22182  file:///C:/Users/jame9353/Documents/GitHub/RDF...   \n",
       "\n",
       "                                                                                         o  \n",
       "label                                                                                       \n",
       "10824 Cross School Rd, Reston, VA 20191            10824 Cross School Rd, Reston, VA 20191  \n",
       "8615 Westwood Center Drive, Vienna, VA 22182  8615 Westwood Center Drive, Vienna, VA 22182  \n",
       "380 New York Street, Redlands, CA 92373            380 New York Street, Redlands, CA 92373  \n",
       "8605 Westwood Center Drive, Tysons, VA 22182  8605 Westwood Center Drive, Tysons, VA 22182  "
      ]
     },
     "execution_count": 9,
     "metadata": {},
     "output_type": "execute_result"
    }
   ],
   "source": [
    "address=e.select(\"\"\"\n",
    "   SELECT ?s ?o ?label{\n",
    "      ?s netowl:Entity.Address.Mail..name ?o .\n",
    "      ?s rdfs:label ?label .\n",
    "    }\n",
    "\"\"\")\n",
    "address.set_index(\"label\")"
   ]
  },
  {
   "cell_type": "code",
   "execution_count": 10,
   "metadata": {},
   "outputs": [
    {
     "name": "stderr",
     "output_type": "stream",
     "text": [
      "INFO:arcgis._impl.connection:Token expired during post request, fetching a new token and retrying\n"
     ]
    }
   ],
   "source": [
    "locations = gis.content.import_data(address, {\"Address\" : \"label\"})"
   ]
  },
  {
   "cell_type": "code",
   "execution_count": 11,
   "metadata": {},
   "outputs": [],
   "source": [
    "titleAdd  = outBaseName + \"_Address\"\n",
    "loc_properties = {\n",
    "    \"title\":titleAdd,\n",
    "    \"text\": json.dumps({\"featureCollection\": {\"layers\": [dict(locations.layer)]}}),\n",
    "    \"type\":\"Feature Collection\"}\n",
    "loc = gis.content.add(loc_properties)"
   ]
  },
  {
   "cell_type": "code",
   "execution_count": 12,
   "metadata": {},
   "outputs": [],
   "source": [
    "triplesSel=e.select(\"\"\"\n",
    "   SELECT ?s ?p ?o ?label ?type{\n",
    "      ?s ?p ?o .\n",
    "      ?s rdfs:label ?label .\n",
    "      ?s rdf:type ?type .\n",
    "    }\n",
    "\"\"\")"
   ]
  },
  {
   "cell_type": "code",
   "execution_count": 13,
   "metadata": {},
   "outputs": [],
   "source": [
    "tripleList = os.path.join(rdfOutDir, 'triples.csv')\n",
    "triplesSel.to_csv(tripleList, sep=',', encoding='utf-8')\n",
    "df = pd.read_csv(tripleList)"
   ]
  },
  {
   "cell_type": "code",
   "execution_count": 14,
   "metadata": {},
   "outputs": [],
   "source": [
    "address = df[df['p'].str.contains('Place')]"
   ]
  },
  {
   "cell_type": "code",
   "execution_count": 15,
   "metadata": {},
   "outputs": [],
   "source": [
    "locations = gis.content.import_data(address, {\"Address\" : \"label\"})"
   ]
  },
  {
   "cell_type": "code",
   "execution_count": 16,
   "metadata": {},
   "outputs": [],
   "source": [
    "titlePlace = outBaseName + \"_Place\"\n",
    "loc_properties = {\n",
    "    \"title\":titlePlace,\n",
    "    \"text\": json.dumps({\"featureCollection\": {\"layers\": [dict(locations.layer)]}}),\n",
    "    \"type\":\"Feature Collection\"}\n",
    "loc = gis.content.add(loc_properties)"
   ]
  },
  {
   "cell_type": "code",
   "execution_count": 17,
   "metadata": {},
   "outputs": [],
   "source": [
    "#Queries for the MGRS coordinates and writes them to a CSV file\n",
    "mgrs=e.select(\"\"\"\n",
    "   SELECT ?s ?o ?label{\n",
    "      ?s netowl:Entity.Numeric.Coordinate.Mgrs..name ?o .\n",
    "      ?s rdfs:label ?label .\n",
    "    }\n",
    "\"\"\")"
   ]
  },
  {
   "cell_type": "code",
   "execution_count": 18,
   "metadata": {},
   "outputs": [],
   "source": [
    "mgrs.set_index(\"o\")\n",
    "mgrs_file = os.path.join(rdfOutDir,'mgrs_coords.csv')\n",
    "mgrs.to_csv(mgrs_file, sep=',', encoding='utf-8')"
   ]
  },
  {
   "cell_type": "code",
   "execution_count": 19,
   "metadata": {},
   "outputs": [
    {
     "ename": "ValueError",
     "evalue": "The truth value of a DataFrame is ambiguous. Use a.empty, a.bool(), a.item(), a.any() or a.all().",
     "output_type": "error",
     "traceback": [
      "\u001b[1;31m---------------------------------------------------------------------------\u001b[0m",
      "\u001b[1;31mValueError\u001b[0m                                Traceback (most recent call last)",
      "\u001b[1;32mC:\\Program Files\\ArcGIS\\Pro\\bin\\Python\\envs\\arcgispro-py3\\lib\\site-packages\\pandas\\core\\generic.py\u001b[0m in \u001b[0;36m__nonzero__\u001b[1;34m(self)\u001b[0m\n\u001b[0;32m   1119\u001b[0m         raise ValueError(\"The truth value of a {0} is ambiguous. \"\n\u001b[0;32m   1120\u001b[0m                          \u001b[1;34m\"Use a.empty, a.bool(), a.item(), a.any() or a.all().\"\u001b[0m\u001b[1;33m\u001b[0m\u001b[0m\n\u001b[1;32m-> 1121\u001b[1;33m                          .format(self.__class__.__name__))\n\u001b[0m\u001b[0;32m   1122\u001b[0m \u001b[1;33m\u001b[0m\u001b[0m\n\u001b[0;32m   1123\u001b[0m     \u001b[0m__bool__\u001b[0m \u001b[1;33m=\u001b[0m \u001b[0m__nonzero__\u001b[0m\u001b[1;33m\u001b[0m\u001b[0m\n",
      "\u001b[1;31mValueError\u001b[0m: The truth value of a DataFrame is ambiguous. Use a.empty, a.bool(), a.item(), a.any() or a.all()."
     ]
    },
    {
     "ename": "ValueError",
     "evalue": "The truth value of a DataFrame is ambiguous. Use a.empty, a.bool(), a.item(), a.any() or a.all().",
     "output_type": "error",
     "traceback": [
      "\u001b[1;31m---------------------------------------------------------------------------\u001b[0m",
      "\u001b[1;31mValueError\u001b[0m                                Traceback (most recent call last)",
      "\u001b[1;32mC:\\Program Files\\ArcGIS\\Pro\\bin\\Python\\envs\\arcgispro-py3\\lib\\site-packages\\pandas\\core\\generic.py\u001b[0m in \u001b[0;36m__nonzero__\u001b[1;34m(self)\u001b[0m\n\u001b[0;32m   1119\u001b[0m         raise ValueError(\"The truth value of a {0} is ambiguous. \"\n\u001b[0;32m   1120\u001b[0m                          \u001b[1;34m\"Use a.empty, a.bool(), a.item(), a.any() or a.all().\"\u001b[0m\u001b[1;33m\u001b[0m\u001b[0m\n\u001b[1;32m-> 1121\u001b[1;33m                          .format(self.__class__.__name__))\n\u001b[0m\u001b[0;32m   1122\u001b[0m \u001b[1;33m\u001b[0m\u001b[0m\n\u001b[0;32m   1123\u001b[0m     \u001b[0m__bool__\u001b[0m \u001b[1;33m=\u001b[0m \u001b[0m__nonzero__\u001b[0m\u001b[1;33m\u001b[0m\u001b[0m\n",
      "\u001b[1;31mValueError\u001b[0m: The truth value of a DataFrame is ambiguous. Use a.empty, a.bool(), a.item(), a.any() or a.all()."
     ]
    },
    {
     "ename": "ValueError",
     "evalue": "The truth value of a DataFrame is ambiguous. Use a.empty, a.bool(), a.item(), a.any() or a.all().",
     "output_type": "error",
     "traceback": [
      "\u001b[1;31m---------------------------------------------------------------------------\u001b[0m",
      "\u001b[1;31mValueError\u001b[0m                                Traceback (most recent call last)",
      "\u001b[1;32mC:\\Program Files\\ArcGIS\\Pro\\bin\\Python\\envs\\arcgispro-py3\\lib\\site-packages\\pandas\\core\\generic.py\u001b[0m in \u001b[0;36m__nonzero__\u001b[1;34m(self)\u001b[0m\n\u001b[0;32m   1119\u001b[0m         raise ValueError(\"The truth value of a {0} is ambiguous. \"\n\u001b[0;32m   1120\u001b[0m                          \u001b[1;34m\"Use a.empty, a.bool(), a.item(), a.any() or a.all().\"\u001b[0m\u001b[1;33m\u001b[0m\u001b[0m\n\u001b[1;32m-> 1121\u001b[1;33m                          .format(self.__class__.__name__))\n\u001b[0m\u001b[0;32m   1122\u001b[0m \u001b[1;33m\u001b[0m\u001b[0m\n\u001b[0;32m   1123\u001b[0m     \u001b[0m__bool__\u001b[0m \u001b[1;33m=\u001b[0m \u001b[0m__nonzero__\u001b[0m\u001b[1;33m\u001b[0m\u001b[0m\n",
      "\u001b[1;31mValueError\u001b[0m: The truth value of a DataFrame is ambiguous. Use a.empty, a.bool(), a.item(), a.any() or a.all()."
     ]
    },
    {
     "ename": "ValueError",
     "evalue": "The truth value of a DataFrame is ambiguous. Use a.empty, a.bool(), a.item(), a.any() or a.all().",
     "output_type": "error",
     "traceback": [
      "\u001b[1;31m---------------------------------------------------------------------------\u001b[0m",
      "\u001b[1;31mValueError\u001b[0m                                Traceback (most recent call last)",
      "\u001b[1;32mC:\\Program Files\\ArcGIS\\Pro\\bin\\Python\\envs\\arcgispro-py3\\lib\\site-packages\\pandas\\core\\generic.py\u001b[0m in \u001b[0;36m__nonzero__\u001b[1;34m(self)\u001b[0m\n\u001b[0;32m   1119\u001b[0m         raise ValueError(\"The truth value of a {0} is ambiguous. \"\n\u001b[0;32m   1120\u001b[0m                          \u001b[1;34m\"Use a.empty, a.bool(), a.item(), a.any() or a.all().\"\u001b[0m\u001b[1;33m\u001b[0m\u001b[0m\n\u001b[1;32m-> 1121\u001b[1;33m                          .format(self.__class__.__name__))\n\u001b[0m\u001b[0;32m   1122\u001b[0m \u001b[1;33m\u001b[0m\u001b[0m\n\u001b[0;32m   1123\u001b[0m     \u001b[0m__bool__\u001b[0m \u001b[1;33m=\u001b[0m \u001b[0m__nonzero__\u001b[0m\u001b[1;33m\u001b[0m\u001b[0m\n",
      "\u001b[1;31mValueError\u001b[0m: The truth value of a DataFrame is ambiguous. Use a.empty, a.bool(), a.item(), a.any() or a.all()."
     ]
    },
    {
     "data": {
      "text/plain": [
       "<Result 'C:\\\\Users\\\\jame9353\\\\Documents\\\\GitHub\\\\RDFtoNeo4J\\\\Demo\\\\Data\\\\OutShp\\\\EarlyBirdMGRS.shp'>"
      ]
     },
     "execution_count": 19,
     "metadata": {},
     "output_type": "execute_result"
    }
   ],
   "source": [
    "#Converts coordinates located in the MGRS CSV into Lat/Longs, turns this into a shapefile\n",
    "outShpDir = os.path.join(rdfOutDir, 'OutShp')\n",
    "outName = outBaseName + 'MGRS.shp'\n",
    "if os.path.exists(outShpDir) == False:\n",
    "    os.mkdir(outShpDir, mode=0o777,)\n",
    "arcpy.ConvertCoordinateNotation_management(in_table=mgrs_file, out_featureclass=os.path.join(outShpDir,outName), x_field=\"o\", y_field=\"o\", input_coordinate_format=\"MGRS\", output_coordinate_format=\"DD_NUMERIC\", id_field=\"\", \n",
    "                                           spatial_reference=\"GEOGCS['GCS_WGS_1984',DATUM['D_WGS_1984',SPHEROID['WGS_1984',6378137.0,298.257223563]],PRIMEM['Greenwich',0.0],UNIT['Degree',0.0174532925199433]];-400 -400 1000000000;-100000 10000;-100000 10000;8.98315284119522E-09;0.001;0.001;IsHighPrecision\", \n",
    "                                           in_coor_system=\"GEOGCS['GCS_WGS_1984',DATUM['D_WGS_1984',SPHEROID['WGS_1984',6378137.0,298.257223563]],PRIMEM['Greenwich',0.0],UNIT['Degree',0.0174532925199433]]\", exclude_invalid_records=\"INCLUDE_INVALID\")"
   ]
  },
  {
   "cell_type": "code",
   "execution_count": 20,
   "metadata": {},
   "outputs": [
    {
     "data": {
      "text/plain": [
       "True"
      ]
     },
     "execution_count": 20,
     "metadata": {},
     "output_type": "execute_result"
    }
   ],
   "source": [
    "#Zips up the shapefile created in the previous step\n",
    "outZip = fileOutDir\n",
    "\n",
    "def zipShapefilesInDir(inDir, outDir):\n",
    "    if not os.path.exists(inDir):\n",
    "        arcpy.AddMessage(\"Input directory %s does not exist!\" % inDir)\n",
    "        return False\n",
    "\n",
    "    if not os.path.exists(outDir):\n",
    "        arcpy.AddMessage(\"Creating output directory %s\" % outDir)\n",
    "        os.mkdir(outDir)\n",
    "\n",
    "    arcpy.AddMessage(\"Zipping shapefile(s) in folder %s to output folder %s\" % (inDir, outDir))\n",
    "\n",
    "    for inShp in glob.glob(os.path.join(inDir, \"*.shp\")):\n",
    "        global outZip\n",
    "        outZip = os.path.join(outDir, os.path.splitext(os.path.basename(inShp))[0] + \".zip\")\n",
    "\n",
    "        zipShapefile(inShp, outZip)\n",
    "    return True\n",
    "\n",
    "\n",
    "def zipShapefile(inShapefile, newZipFN):\n",
    "    arcpy.AddMessage('Starting to Zip ' + (inShapefile) + ' to ' + (newZipFN))\n",
    "\n",
    "    if not (os.path.exists(inShapefile)):\n",
    "        arcpy.AddMessage(inShapefile + ' Does Not Exist')\n",
    "        return False\n",
    "\n",
    "    if (os.path.exists(newZipFN)):\n",
    "        arcpy.AddMessage('Deleting ' + newZipFN)\n",
    "        os.remove(newZipFN)\n",
    "\n",
    "    if (os.path.exists(newZipFN)):\n",
    "        arcpy.AddMessage('Unable to Delete' + newZipFN)\n",
    "        return False\n",
    "\n",
    "    zipobj = zipfile.ZipFile(newZipFN, 'w')\n",
    "\n",
    "    for infile in glob.glob(inShapefile.lower().replace(\".shp\", \".*\")):\n",
    "        if os.path.splitext(infile)[1].lower() != \".zip\":\n",
    "            arcpy.AddMessage(\"Zipping %s\" % (infile))\n",
    "            zipobj.write(infile, os.path.basename(infile), zipfile.ZIP_DEFLATED)\n",
    "\n",
    "    zipobj.close()\n",
    "    return True\n",
    "\n",
    "zipShapefilesInDir(outShpDir, rdfOutDir)"
   ]
  },
  {
   "cell_type": "code",
   "execution_count": 21,
   "metadata": {},
   "outputs": [],
   "source": [
    "#Uploads the shapefile to ArcGIS Online and publishes it as a feature service\n",
    "titleMGRS = outBaseName + '_MGRS'\n",
    "tempItem = gis.content.add({\"title\":titleMGRS, \"type\":\"Shapefile\"}, outZip)\n",
    "mgrsLyr = tempItem.publish()"
   ]
  },
  {
   "cell_type": "code",
   "execution_count": 22,
   "metadata": {},
   "outputs": [
    {
     "data": {
      "text/html": [
       "<div>\n",
       "<style scoped>\n",
       "    .dataframe tbody tr th:only-of-type {\n",
       "        vertical-align: middle;\n",
       "    }\n",
       "\n",
       "    .dataframe tbody tr th {\n",
       "        vertical-align: top;\n",
       "    }\n",
       "\n",
       "    .dataframe thead th {\n",
       "        text-align: right;\n",
       "    }\n",
       "</style>\n",
       "<table border=\"1\" class=\"dataframe\">\n",
       "  <thead>\n",
       "    <tr style=\"text-align: right;\">\n",
       "      <th></th>\n",
       "      <th>s</th>\n",
       "      <th>o</th>\n",
       "    </tr>\n",
       "    <tr>\n",
       "      <th>label</th>\n",
       "      <th></th>\n",
       "      <th></th>\n",
       "    </tr>\n",
       "  </thead>\n",
       "  <tbody>\n",
       "  </tbody>\n",
       "</table>\n",
       "</div>"
      ],
      "text/plain": [
       "Empty DataFrame\n",
       "Columns: [s, o]\n",
       "Index: []"
      ]
     },
     "execution_count": 22,
     "metadata": {},
     "output_type": "execute_result"
    }
   ],
   "source": [
    "#Queries for the Lat/Long coordinates located in the document\n",
    "latlong=e.select(\"\"\"\n",
    "   SELECT ?s ?o ?label{\n",
    "      ?s netowl:Entity.Numeric.Coordinate.Latlong..name ?o .\n",
    "      ?s rdfs:label ?label .\n",
    "    }\n",
    "\"\"\")\n",
    "latlong.set_index(\"label\")"
   ]
  },
  {
   "cell_type": "code",
   "execution_count": null,
   "metadata": {},
   "outputs": [],
   "source": []
  }
 ],
 "metadata": {
  "kernelspec": {
   "display_name": "Python 3",
   "language": "python",
   "name": "python3"
  },
  "language_info": {
   "codemirror_mode": {
    "name": "ipython",
    "version": 3
   },
   "file_extension": ".py",
   "mimetype": "text/x-python",
   "name": "python",
   "nbconvert_exporter": "python",
   "pygments_lexer": "ipython3",
   "version": "3.6.2"
  }
 },
 "nbformat": 4,
 "nbformat_minor": 2
}
